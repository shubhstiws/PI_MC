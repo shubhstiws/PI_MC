{
 "cells": [
  {
   "cell_type": "code",
   "execution_count": 78,
   "metadata": {},
   "outputs": [],
   "source": [
    "import numpy as np\n",
    "import math as m\n",
    "import matplotlib.pyplot as plt\n",
    "import seaborn as sns\n",
    "import pandas as pd\n",
    "import os\n",
    "import imageio\n",
    "import shutil"
   ]
  },
  {
   "cell_type": "markdown",
   "metadata": {},
   "source": [
    "#### Plotting"
   ]
  },
  {
   "cell_type": "code",
   "execution_count": 3,
   "metadata": {},
   "outputs": [],
   "source": [
    "sns.set_style(\"white\")\n",
    "font_h1 = {'family': 'Segoe UI',\n",
    "           'color': 'black',\n",
    "           'weight': 'semibold',\n",
    "           'size': 14,\n",
    "           'horizontalalignment': 'center'}\n",
    "font_h2 = {'family': 'Segoe UI',\n",
    "            'color': 'black',\n",
    "            'weight': 'regular',\n",
    "            'size': 10,\n",
    "            'horizontalalignment': 'left'}\n",
    "font_title = {'family': 'Segoe UI',\n",
    "              'color': 'black',\n",
    "              'weight': 'regular',\n",
    "              'size': 12}"
   ]
  },
  {
   "cell_type": "code",
   "execution_count": 103,
   "metadata": {},
   "outputs": [],
   "source": [
    "def piapp(total):\n",
    "    np.random.seed(seed=42)\n",
    "    \n",
    "    a = np.random.uniform(low = 0,high = 1,size=total)\n",
    "    b = np.random.uniform(low = 0,high = 1,size=total)\n",
    "    l = []\n",
    "    for i in range(1,total,100):\n",
    "        x = a[:i] \n",
    "        y = b[:i]\n",
    "        inside = np.sum(np.sqrt(np.square(x)+np.square(y)) < 1.0)\n",
    "        pi = (float(inside) / i)*4\n",
    "        l.append(pi)\n",
    "    \n",
    "    a = np.random.uniform(low = -1,high = 1,size=total)\n",
    "    b = np.random.uniform(low = -1,high = 1,size=total)\n",
    "    j=0\n",
    "    for i in range(1,total,100):\n",
    "\n",
    "        x = a[:i] \n",
    "        y = b[:i] \n",
    "        z = np.sqrt(np.square(x)+np.square(y)) < 1.0\n",
    "        z = np.where(z==True,\"Yes\",\"No\")\n",
    "\n",
    "        df4 = pd.DataFrame(\n",
    "            {'x': x,\n",
    "             'y': y,\n",
    "             'z': z}, index=['Row'+str(i) for i in range(1, len(x)+1)], columns=['x','y','z'])\n",
    "        \n",
    "        plt.figure()\n",
    "        p = sns.lmplot(\"x\", \"y\", data=df4,fit_reg=False,scatter_kws={'s':1},hue='z',palette=dict(Yes=\"m\", No=\"g\"),legend=False)\n",
    "        p.set(yticks=[])\n",
    "        p.set(xticks=[])\n",
    "        plt.title('Points: '+str(i-1)+'    Pi: '+str(round(l[j],7)),fontdict = font_title)\n",
    "        j += 1\n",
    "        plt.xlabel('')\n",
    "        plt.ylabel('')\n",
    "        sns.despine(bottom=True, left=True)\n",
    "        plt.tight_layout()\n",
    "        plt.savefig('./output/{0:03.0f}_{1}.png'.format(i, i), dpi=300)\n",
    "        plt.cla()\n",
    "        plt.clf()\n",
    "        plt.close(\"all\")"
   ]
  },
  {
   "cell_type": "code",
   "execution_count": 89,
   "metadata": {
    "scrolled": true
   },
   "outputs": [],
   "source": [
    "def frames(text,num):\n",
    "    sns.set_style('white', {'xtick.color': 'white', 'axes.labelcolor': 'white'})\n",
    "    plt.figure()\n",
    "\n",
    "    df = pd.DataFrame({\n",
    "    'x': [-1,0,1],\n",
    "    'y': [-1,0,1]})\n",
    "\n",
    "    p = sns.lmplot(\"x\", \"y\", data=df,fit_reg=False,legend=False,scatter_kws={'s':0.1})\n",
    "    p.set(yticks=[])\n",
    "    p.set(xticks=[])\n",
    "    plt.ylabel('')\n",
    "    plt.title(' ')\n",
    "    plt.xlabel('')\n",
    "    sns.despine(bottom=True, left=True)\n",
    "\n",
    "    plt.text(0, 0,\n",
    "             text,\n",
    "             fontdict=font_h1)\n",
    "    plt.text(-1, -1,\n",
    "             '© Shubhankar Tiwari\\\n",
    "             \\nAnimation Inspiration: https://www.reddit.com/user/germanalen',\n",
    "             fontdict=font_h2)\n",
    "    plt.tight_layout()\n",
    "    k = np.random.randint(5)\n",
    "    plt.savefig('./output/'+str(num)+'.png', dpi=300)\n",
    "    plt.close(\"all\")"
   ]
  },
  {
   "cell_type": "code",
   "execution_count": 90,
   "metadata": {},
   "outputs": [],
   "source": [
    "frames('“We have this one life to appreciate \\nthe grand design of the universe, \\nand for that, I am extremely grateful”','-1')\n",
    "frames('Stephen Hawking','-2')\n",
    "frames('He died on Pi day, I find this poetic!','-3')\n",
    "frames('Pi\\'s decimal representation never ends and \\nnever settles into a permanent repeating pattern','-4')\n",
    "frames('I tried estimating Pi using the Monte Carlo Method','-5')"
   ]
  },
  {
   "cell_type": "code",
   "execution_count": 104,
   "metadata": {},
   "outputs": [],
   "source": [
    "piapp(10000)"
   ]
  },
  {
   "cell_type": "code",
   "execution_count": 91,
   "metadata": {},
   "outputs": [],
   "source": [
    "png_files = [f for f in os.listdir('./output') if f.endswith('.png')]\n",
    "\n",
    "charts = []\n",
    "# Append the title chart - https://stackoverflow.com/a/35943809\n",
    "for i in range(30):\n",
    "    charts.append(imageio.imread(os.path.join(str(os.getcwd())+'/output','-1.png')))\n",
    "\n",
    "for i in range(20):\n",
    "    charts.append(imageio.imread(os.path.join(str(os.getcwd())+'/output','-2.png')))\n",
    "    \n",
    "for i in range(20):\n",
    "    charts.append(imageio.imread(os.path.join(str(os.getcwd())+'/output','-3.png')))\n",
    "    \n",
    "for i in range(20):\n",
    "    charts.append(imageio.imread(os.path.join(str(os.getcwd())+'/output','-4.png')))\n",
    "    \n",
    "for i in range(20):\n",
    "    charts.append(imageio.imread(os.path.join(str(os.getcwd())+'/output','-5.png')))\n",
    "\n",
    "\n",
    "# Append all the charts (except the title slide)\n",
    "for f in png_files[5:]:\n",
    "    charts.append(imageio.imread(os.path.join(str(os.getcwd())+'/output',f)))\n",
    "\n",
    "# Append the last chart a few extra times\n",
    "for i in range(3):\n",
    "    charts.append(imageio.imread(os.path.join(str(os.getcwd())+'/output',f)))\n",
    "\n",
    "# Save gif\n",
    "imageio.mimsave('pi.gif', charts, format='GIF', duration=0.1)"
   ]
  }
 ],
 "metadata": {
  "kernelspec": {
   "display_name": "Python [conda env:tf15]",
   "language": "python",
   "name": "conda-env-tf15-py"
  },
  "language_info": {
   "codemirror_mode": {
    "name": "ipython",
    "version": 3
   },
   "file_extension": ".py",
   "mimetype": "text/x-python",
   "name": "python",
   "nbconvert_exporter": "python",
   "pygments_lexer": "ipython3",
   "version": "3.6.4"
  }
 },
 "nbformat": 4,
 "nbformat_minor": 2
}
